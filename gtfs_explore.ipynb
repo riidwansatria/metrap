{
 "cells": [
  {
   "cell_type": "code",
   "execution_count": 1,
   "id": "ca80388b",
   "metadata": {},
   "outputs": [
    {
     "name": "stdout",
     "output_type": "stream",
     "text": [
      "Loaded agency.txt\n"
     ]
    },
    {
     "data": {
      "application/vnd.microsoft.datawrangler.viewer.v0+json": {
       "columns": [
        {
         "name": "index",
         "rawType": "int64",
         "type": "integer"
        },
        {
         "name": "agency_id",
         "rawType": "object",
         "type": "string"
        },
        {
         "name": "agency_name",
         "rawType": "object",
         "type": "string"
        },
        {
         "name": "agency_url",
         "rawType": "object",
         "type": "string"
        },
        {
         "name": "agency_timezone",
         "rawType": "object",
         "type": "string"
        },
        {
         "name": "agency_lang",
         "rawType": "object",
         "type": "string"
        },
        {
         "name": "agency_phone",
         "rawType": "int64",
         "type": "integer"
        },
        {
         "name": "agency_fare_url",
         "rawType": "object",
         "type": "string"
        },
        {
         "name": "agency_email",
         "rawType": "object",
         "type": "string"
        }
       ],
       "ref": "7735d282-b291-43c0-9bdc-4dc7cc24a110",
       "rows": [
        [
         "0",
         "EMTPM01",
         "EMTPM",
         "http://www.emtpm.co.mz/index.php/horario-das-carreiras",
         "Africa/Maputo",
         "pt",
         "258823104635",
         "http://www.emtpm.co.mz/index.php/horario-das-carreiras",
         " emtpm@emtpm.co.mz"
        ]
       ],
       "shape": {
        "columns": 8,
        "rows": 1
       }
      },
      "text/html": [
       "<div>\n",
       "<style scoped>\n",
       "    .dataframe tbody tr th:only-of-type {\n",
       "        vertical-align: middle;\n",
       "    }\n",
       "\n",
       "    .dataframe tbody tr th {\n",
       "        vertical-align: top;\n",
       "    }\n",
       "\n",
       "    .dataframe thead th {\n",
       "        text-align: right;\n",
       "    }\n",
       "</style>\n",
       "<table border=\"1\" class=\"dataframe\">\n",
       "  <thead>\n",
       "    <tr style=\"text-align: right;\">\n",
       "      <th></th>\n",
       "      <th>agency_id</th>\n",
       "      <th>agency_name</th>\n",
       "      <th>agency_url</th>\n",
       "      <th>agency_timezone</th>\n",
       "      <th>agency_lang</th>\n",
       "      <th>agency_phone</th>\n",
       "      <th>agency_fare_url</th>\n",
       "      <th>agency_email</th>\n",
       "    </tr>\n",
       "  </thead>\n",
       "  <tbody>\n",
       "    <tr>\n",
       "      <th>0</th>\n",
       "      <td>EMTPM01</td>\n",
       "      <td>EMTPM</td>\n",
       "      <td>http://www.emtpm.co.mz/index.php/horario-das-c...</td>\n",
       "      <td>Africa/Maputo</td>\n",
       "      <td>pt</td>\n",
       "      <td>258823104635</td>\n",
       "      <td>http://www.emtpm.co.mz/index.php/horario-das-c...</td>\n",
       "      <td>emtpm@emtpm.co.mz</td>\n",
       "    </tr>\n",
       "  </tbody>\n",
       "</table>\n",
       "</div>"
      ],
      "text/plain": [
       "  agency_id agency_name                                         agency_url  \\\n",
       "0   EMTPM01       EMTPM  http://www.emtpm.co.mz/index.php/horario-das-c...   \n",
       "\n",
       "  agency_timezone agency_lang  agency_phone  \\\n",
       "0   Africa/Maputo          pt  258823104635   \n",
       "\n",
       "                                     agency_fare_url        agency_email  \n",
       "0  http://www.emtpm.co.mz/index.php/horario-das-c...   emtpm@emtpm.co.mz  "
      ]
     },
     "metadata": {},
     "output_type": "display_data"
    },
    {
     "name": "stdout",
     "output_type": "stream",
     "text": [
      "Loaded stops.txt\n"
     ]
    },
    {
     "data": {
      "application/vnd.microsoft.datawrangler.viewer.v0+json": {
       "columns": [
        {
         "name": "index",
         "rawType": "int64",
         "type": "integer"
        },
        {
         "name": "stop_id",
         "rawType": "object",
         "type": "string"
        },
        {
         "name": "stop_code",
         "rawType": "float64",
         "type": "float"
        },
        {
         "name": "stop_name",
         "rawType": "object",
         "type": "string"
        },
        {
         "name": "stop_desc",
         "rawType": "float64",
         "type": "float"
        },
        {
         "name": "stop_lat",
         "rawType": "float64",
         "type": "float"
        },
        {
         "name": "stop_lon",
         "rawType": "float64",
         "type": "float"
        },
        {
         "name": "zone_id",
         "rawType": "object",
         "type": "string"
        },
        {
         "name": "stop_url",
         "rawType": "float64",
         "type": "float"
        },
        {
         "name": "location_type",
         "rawType": "int64",
         "type": "integer"
        },
        {
         "name": "platform_code",
         "rawType": "float64",
         "type": "float"
        }
       ],
       "ref": "5b6c4fc0-28e4-4998-82ab-d57a4d3a6781",
       "rows": [
        [
         "0",
         "P0001601_T",
         null,
         "Anjo Voador (601)",
         null,
         "-25.975539",
         "32.570933",
         "P0001601_T",
         null,
         "0",
         null
        ],
        [
         "1",
         "P0002PEP_A",
         null,
         "Laurentina (Av. Guerra Popular)",
         null,
         "-25.969672",
         "32.566433",
         "P0002PEP_A",
         null,
         "0",
         null
        ],
        [
         "2",
         "P0002PEP_B",
         null,
         "Laurentina (Av. Guerra Popular)",
         null,
         "-25.969516",
         "32.566915",
         "P0002PEP_B",
         null,
         "0",
         null
        ],
        [
         "3",
         "P0003PEP_A",
         null,
         "Mercado Mandela (Av. Guerra Popular)",
         null,
         "-25.965025",
         "32.569769",
         "P0003PEP_A",
         null,
         "0",
         null
        ],
        [
         "4",
         "P0003PEP_B",
         null,
         "Mercado Mandela (Av. Guerra Popular)",
         null,
         "-25.965157",
         "32.569997",
         "P0003PEP_B",
         null,
         "0",
         null
        ]
       ],
       "shape": {
        "columns": 10,
        "rows": 5
       }
      },
      "text/html": [
       "<div>\n",
       "<style scoped>\n",
       "    .dataframe tbody tr th:only-of-type {\n",
       "        vertical-align: middle;\n",
       "    }\n",
       "\n",
       "    .dataframe tbody tr th {\n",
       "        vertical-align: top;\n",
       "    }\n",
       "\n",
       "    .dataframe thead th {\n",
       "        text-align: right;\n",
       "    }\n",
       "</style>\n",
       "<table border=\"1\" class=\"dataframe\">\n",
       "  <thead>\n",
       "    <tr style=\"text-align: right;\">\n",
       "      <th></th>\n",
       "      <th>stop_id</th>\n",
       "      <th>stop_code</th>\n",
       "      <th>stop_name</th>\n",
       "      <th>stop_desc</th>\n",
       "      <th>stop_lat</th>\n",
       "      <th>stop_lon</th>\n",
       "      <th>zone_id</th>\n",
       "      <th>stop_url</th>\n",
       "      <th>location_type</th>\n",
       "      <th>platform_code</th>\n",
       "    </tr>\n",
       "  </thead>\n",
       "  <tbody>\n",
       "    <tr>\n",
       "      <th>0</th>\n",
       "      <td>P0001601_T</td>\n",
       "      <td>NaN</td>\n",
       "      <td>Anjo Voador (601)</td>\n",
       "      <td>NaN</td>\n",
       "      <td>-25.975539</td>\n",
       "      <td>32.570933</td>\n",
       "      <td>P0001601_T</td>\n",
       "      <td>NaN</td>\n",
       "      <td>0</td>\n",
       "      <td>NaN</td>\n",
       "    </tr>\n",
       "    <tr>\n",
       "      <th>1</th>\n",
       "      <td>P0002PEP_A</td>\n",
       "      <td>NaN</td>\n",
       "      <td>Laurentina (Av. Guerra Popular)</td>\n",
       "      <td>NaN</td>\n",
       "      <td>-25.969672</td>\n",
       "      <td>32.566433</td>\n",
       "      <td>P0002PEP_A</td>\n",
       "      <td>NaN</td>\n",
       "      <td>0</td>\n",
       "      <td>NaN</td>\n",
       "    </tr>\n",
       "    <tr>\n",
       "      <th>2</th>\n",
       "      <td>P0002PEP_B</td>\n",
       "      <td>NaN</td>\n",
       "      <td>Laurentina (Av. Guerra Popular)</td>\n",
       "      <td>NaN</td>\n",
       "      <td>-25.969516</td>\n",
       "      <td>32.566915</td>\n",
       "      <td>P0002PEP_B</td>\n",
       "      <td>NaN</td>\n",
       "      <td>0</td>\n",
       "      <td>NaN</td>\n",
       "    </tr>\n",
       "    <tr>\n",
       "      <th>3</th>\n",
       "      <td>P0003PEP_A</td>\n",
       "      <td>NaN</td>\n",
       "      <td>Mercado Mandela (Av. Guerra Popular)</td>\n",
       "      <td>NaN</td>\n",
       "      <td>-25.965025</td>\n",
       "      <td>32.569769</td>\n",
       "      <td>P0003PEP_A</td>\n",
       "      <td>NaN</td>\n",
       "      <td>0</td>\n",
       "      <td>NaN</td>\n",
       "    </tr>\n",
       "    <tr>\n",
       "      <th>4</th>\n",
       "      <td>P0003PEP_B</td>\n",
       "      <td>NaN</td>\n",
       "      <td>Mercado Mandela (Av. Guerra Popular)</td>\n",
       "      <td>NaN</td>\n",
       "      <td>-25.965157</td>\n",
       "      <td>32.569997</td>\n",
       "      <td>P0003PEP_B</td>\n",
       "      <td>NaN</td>\n",
       "      <td>0</td>\n",
       "      <td>NaN</td>\n",
       "    </tr>\n",
       "  </tbody>\n",
       "</table>\n",
       "</div>"
      ],
      "text/plain": [
       "      stop_id  stop_code                             stop_name  stop_desc  \\\n",
       "0  P0001601_T        NaN                     Anjo Voador (601)        NaN   \n",
       "1  P0002PEP_A        NaN       Laurentina (Av. Guerra Popular)        NaN   \n",
       "2  P0002PEP_B        NaN       Laurentina (Av. Guerra Popular)        NaN   \n",
       "3  P0003PEP_A        NaN  Mercado Mandela (Av. Guerra Popular)        NaN   \n",
       "4  P0003PEP_B        NaN  Mercado Mandela (Av. Guerra Popular)        NaN   \n",
       "\n",
       "    stop_lat   stop_lon     zone_id  stop_url  location_type  platform_code  \n",
       "0 -25.975539  32.570933  P0001601_T       NaN              0            NaN  \n",
       "1 -25.969672  32.566433  P0002PEP_A       NaN              0            NaN  \n",
       "2 -25.969516  32.566915  P0002PEP_B       NaN              0            NaN  \n",
       "3 -25.965025  32.569769  P0003PEP_A       NaN              0            NaN  \n",
       "4 -25.965157  32.569997  P0003PEP_B       NaN              0            NaN  "
      ]
     },
     "metadata": {},
     "output_type": "display_data"
    },
    {
     "name": "stdout",
     "output_type": "stream",
     "text": [
      "Loaded routes.txt\n"
     ]
    },
    {
     "data": {
      "application/vnd.microsoft.datawrangler.viewer.v0+json": {
       "columns": [
        {
         "name": "index",
         "rawType": "int64",
         "type": "integer"
        },
        {
         "name": "route_id",
         "rawType": "object",
         "type": "string"
        },
        {
         "name": "agency_id",
         "rawType": "object",
         "type": "string"
        },
        {
         "name": "route_short_name",
         "rawType": "int64",
         "type": "integer"
        },
        {
         "name": "route_long_name",
         "rawType": "object",
         "type": "string"
        },
        {
         "name": "route_desc",
         "rawType": "float64",
         "type": "float"
        },
        {
         "name": "route_type",
         "rawType": "int64",
         "type": "integer"
        },
        {
         "name": "route_color",
         "rawType": "float64",
         "type": "float"
        },
        {
         "name": "route_text_color",
         "rawType": "float64",
         "type": "float"
        }
       ],
       "ref": "ab5918e8-c0d4-4ecc-b521-c5bae26b0974",
       "rows": [
        [
         "0",
         "1",
         "EMTPM01",
         "10",
         "1 [1-0] Anjo Voador - Chamissava",
         null,
         "3",
         null,
         null
        ],
        [
         "1",
         "11",
         "EMTPM01",
         "110",
         "11 [11-0] Albert Lithule - Michafutene",
         null,
         "3",
         null,
         null
        ],
        [
         "2",
         "11B",
         "EMTPM01",
         "110",
         "11 [11-0] Michafutene - Albert Lithule",
         null,
         "3",
         null,
         null
        ],
        [
         "3",
         "11C",
         "EMTPM01",
         "111",
         "11 [11-1] Albert Lithule - Michafutene",
         null,
         "3",
         null,
         null
        ],
        [
         "4",
         "11D",
         "EMTPM01",
         "111",
         "11 [11-1] Michafutene - Albert Lithule",
         null,
         "3",
         null,
         null
        ]
       ],
       "shape": {
        "columns": 8,
        "rows": 5
       }
      },
      "text/html": [
       "<div>\n",
       "<style scoped>\n",
       "    .dataframe tbody tr th:only-of-type {\n",
       "        vertical-align: middle;\n",
       "    }\n",
       "\n",
       "    .dataframe tbody tr th {\n",
       "        vertical-align: top;\n",
       "    }\n",
       "\n",
       "    .dataframe thead th {\n",
       "        text-align: right;\n",
       "    }\n",
       "</style>\n",
       "<table border=\"1\" class=\"dataframe\">\n",
       "  <thead>\n",
       "    <tr style=\"text-align: right;\">\n",
       "      <th></th>\n",
       "      <th>route_id</th>\n",
       "      <th>agency_id</th>\n",
       "      <th>route_short_name</th>\n",
       "      <th>route_long_name</th>\n",
       "      <th>route_desc</th>\n",
       "      <th>route_type</th>\n",
       "      <th>route_color</th>\n",
       "      <th>route_text_color</th>\n",
       "    </tr>\n",
       "  </thead>\n",
       "  <tbody>\n",
       "    <tr>\n",
       "      <th>0</th>\n",
       "      <td>1</td>\n",
       "      <td>EMTPM01</td>\n",
       "      <td>10</td>\n",
       "      <td>1 [1-0] Anjo Voador - Chamissava</td>\n",
       "      <td>NaN</td>\n",
       "      <td>3</td>\n",
       "      <td>NaN</td>\n",
       "      <td>NaN</td>\n",
       "    </tr>\n",
       "    <tr>\n",
       "      <th>1</th>\n",
       "      <td>11</td>\n",
       "      <td>EMTPM01</td>\n",
       "      <td>110</td>\n",
       "      <td>11 [11-0] Albert Lithule - Michafutene</td>\n",
       "      <td>NaN</td>\n",
       "      <td>3</td>\n",
       "      <td>NaN</td>\n",
       "      <td>NaN</td>\n",
       "    </tr>\n",
       "    <tr>\n",
       "      <th>2</th>\n",
       "      <td>11B</td>\n",
       "      <td>EMTPM01</td>\n",
       "      <td>110</td>\n",
       "      <td>11 [11-0] Michafutene - Albert Lithule</td>\n",
       "      <td>NaN</td>\n",
       "      <td>3</td>\n",
       "      <td>NaN</td>\n",
       "      <td>NaN</td>\n",
       "    </tr>\n",
       "    <tr>\n",
       "      <th>3</th>\n",
       "      <td>11C</td>\n",
       "      <td>EMTPM01</td>\n",
       "      <td>111</td>\n",
       "      <td>11 [11-1] Albert Lithule - Michafutene</td>\n",
       "      <td>NaN</td>\n",
       "      <td>3</td>\n",
       "      <td>NaN</td>\n",
       "      <td>NaN</td>\n",
       "    </tr>\n",
       "    <tr>\n",
       "      <th>4</th>\n",
       "      <td>11D</td>\n",
       "      <td>EMTPM01</td>\n",
       "      <td>111</td>\n",
       "      <td>11 [11-1] Michafutene - Albert Lithule</td>\n",
       "      <td>NaN</td>\n",
       "      <td>3</td>\n",
       "      <td>NaN</td>\n",
       "      <td>NaN</td>\n",
       "    </tr>\n",
       "  </tbody>\n",
       "</table>\n",
       "</div>"
      ],
      "text/plain": [
       "  route_id agency_id  route_short_name  \\\n",
       "0        1   EMTPM01                10   \n",
       "1       11   EMTPM01               110   \n",
       "2      11B   EMTPM01               110   \n",
       "3      11C   EMTPM01               111   \n",
       "4      11D   EMTPM01               111   \n",
       "\n",
       "                          route_long_name  route_desc  route_type  \\\n",
       "0        1 [1-0] Anjo Voador - Chamissava         NaN           3   \n",
       "1  11 [11-0] Albert Lithule - Michafutene         NaN           3   \n",
       "2  11 [11-0] Michafutene - Albert Lithule         NaN           3   \n",
       "3  11 [11-1] Albert Lithule - Michafutene         NaN           3   \n",
       "4  11 [11-1] Michafutene - Albert Lithule         NaN           3   \n",
       "\n",
       "   route_color  route_text_color  \n",
       "0          NaN               NaN  \n",
       "1          NaN               NaN  \n",
       "2          NaN               NaN  \n",
       "3          NaN               NaN  \n",
       "4          NaN               NaN  "
      ]
     },
     "metadata": {},
     "output_type": "display_data"
    },
    {
     "name": "stdout",
     "output_type": "stream",
     "text": [
      "Loaded trips.txt\n"
     ]
    },
    {
     "data": {
      "application/vnd.microsoft.datawrangler.viewer.v0+json": {
       "columns": [
        {
         "name": "index",
         "rawType": "int64",
         "type": "integer"
        },
        {
         "name": "route_id",
         "rawType": "object",
         "type": "string"
        },
        {
         "name": "service_id",
         "rawType": "object",
         "type": "string"
        },
        {
         "name": "trip_id",
         "rawType": "object",
         "type": "string"
        },
        {
         "name": "trip_headsign",
         "rawType": "object",
         "type": "string"
        },
        {
         "name": "direction_id",
         "rawType": "int64",
         "type": "integer"
        },
        {
         "name": "block_id",
         "rawType": "float64",
         "type": "float"
        },
        {
         "name": "trip_short_name",
         "rawType": "float64",
         "type": "float"
        },
        {
         "name": "shape_id",
         "rawType": "int64",
         "type": "integer"
        }
       ],
       "ref": "76b7ec42-4aa8-46cc-993a-886af256d691",
       "rows": [
        [
         "0",
         "1",
         "Weekday/Weekend",
         "3　Weekday/Weekend_0520_trip10001001",
         "Terminal de Chamissava",
         "0",
         null,
         null,
         "10001"
        ],
        [
         "1",
         "1",
         "Weekday/Weekend",
         "3　Weekday/Weekend_0840_trip10001001",
         "Terminal de Chamissava",
         "0",
         null,
         null,
         "10001"
        ],
        [
         "2",
         "1",
         "Weekday/Weekend",
         "3　Weekday/Weekend_1200_trip10001001",
         "Terminal de Chamissava",
         "0",
         null,
         null,
         "10001"
        ],
        [
         "3",
         "1",
         "Weekday/Weekend",
         "3　Weekday/Weekend_1520_trip10001001",
         "Terminal de Chamissava",
         "0",
         null,
         null,
         "10001"
        ],
        [
         "4",
         "1",
         "Weekday/Weekend",
         "3　Weekday/Weekend_1840_trip10001001",
         "Terminal de Chamissava",
         "0",
         null,
         null,
         "10001"
        ]
       ],
       "shape": {
        "columns": 8,
        "rows": 5
       }
      },
      "text/html": [
       "<div>\n",
       "<style scoped>\n",
       "    .dataframe tbody tr th:only-of-type {\n",
       "        vertical-align: middle;\n",
       "    }\n",
       "\n",
       "    .dataframe tbody tr th {\n",
       "        vertical-align: top;\n",
       "    }\n",
       "\n",
       "    .dataframe thead th {\n",
       "        text-align: right;\n",
       "    }\n",
       "</style>\n",
       "<table border=\"1\" class=\"dataframe\">\n",
       "  <thead>\n",
       "    <tr style=\"text-align: right;\">\n",
       "      <th></th>\n",
       "      <th>route_id</th>\n",
       "      <th>service_id</th>\n",
       "      <th>trip_id</th>\n",
       "      <th>trip_headsign</th>\n",
       "      <th>direction_id</th>\n",
       "      <th>block_id</th>\n",
       "      <th>trip_short_name</th>\n",
       "      <th>shape_id</th>\n",
       "    </tr>\n",
       "  </thead>\n",
       "  <tbody>\n",
       "    <tr>\n",
       "      <th>0</th>\n",
       "      <td>1</td>\n",
       "      <td>Weekday/Weekend</td>\n",
       "      <td>3　Weekday/Weekend_0520_trip10001001</td>\n",
       "      <td>Terminal de Chamissava</td>\n",
       "      <td>0</td>\n",
       "      <td>NaN</td>\n",
       "      <td>NaN</td>\n",
       "      <td>10001</td>\n",
       "    </tr>\n",
       "    <tr>\n",
       "      <th>1</th>\n",
       "      <td>1</td>\n",
       "      <td>Weekday/Weekend</td>\n",
       "      <td>3　Weekday/Weekend_0840_trip10001001</td>\n",
       "      <td>Terminal de Chamissava</td>\n",
       "      <td>0</td>\n",
       "      <td>NaN</td>\n",
       "      <td>NaN</td>\n",
       "      <td>10001</td>\n",
       "    </tr>\n",
       "    <tr>\n",
       "      <th>2</th>\n",
       "      <td>1</td>\n",
       "      <td>Weekday/Weekend</td>\n",
       "      <td>3　Weekday/Weekend_1200_trip10001001</td>\n",
       "      <td>Terminal de Chamissava</td>\n",
       "      <td>0</td>\n",
       "      <td>NaN</td>\n",
       "      <td>NaN</td>\n",
       "      <td>10001</td>\n",
       "    </tr>\n",
       "    <tr>\n",
       "      <th>3</th>\n",
       "      <td>1</td>\n",
       "      <td>Weekday/Weekend</td>\n",
       "      <td>3　Weekday/Weekend_1520_trip10001001</td>\n",
       "      <td>Terminal de Chamissava</td>\n",
       "      <td>0</td>\n",
       "      <td>NaN</td>\n",
       "      <td>NaN</td>\n",
       "      <td>10001</td>\n",
       "    </tr>\n",
       "    <tr>\n",
       "      <th>4</th>\n",
       "      <td>1</td>\n",
       "      <td>Weekday/Weekend</td>\n",
       "      <td>3　Weekday/Weekend_1840_trip10001001</td>\n",
       "      <td>Terminal de Chamissava</td>\n",
       "      <td>0</td>\n",
       "      <td>NaN</td>\n",
       "      <td>NaN</td>\n",
       "      <td>10001</td>\n",
       "    </tr>\n",
       "  </tbody>\n",
       "</table>\n",
       "</div>"
      ],
      "text/plain": [
       "  route_id       service_id                              trip_id  \\\n",
       "0        1  Weekday/Weekend  3　Weekday/Weekend_0520_trip10001001   \n",
       "1        1  Weekday/Weekend  3　Weekday/Weekend_0840_trip10001001   \n",
       "2        1  Weekday/Weekend  3　Weekday/Weekend_1200_trip10001001   \n",
       "3        1  Weekday/Weekend  3　Weekday/Weekend_1520_trip10001001   \n",
       "4        1  Weekday/Weekend  3　Weekday/Weekend_1840_trip10001001   \n",
       "\n",
       "            trip_headsign  direction_id  block_id  trip_short_name  shape_id  \n",
       "0  Terminal de Chamissava             0       NaN              NaN     10001  \n",
       "1  Terminal de Chamissava             0       NaN              NaN     10001  \n",
       "2  Terminal de Chamissava             0       NaN              NaN     10001  \n",
       "3  Terminal de Chamissava             0       NaN              NaN     10001  \n",
       "4  Terminal de Chamissava             0       NaN              NaN     10001  "
      ]
     },
     "metadata": {},
     "output_type": "display_data"
    },
    {
     "name": "stdout",
     "output_type": "stream",
     "text": [
      "Loaded stop_times.txt\n"
     ]
    },
    {
     "data": {
      "application/vnd.microsoft.datawrangler.viewer.v0+json": {
       "columns": [
        {
         "name": "index",
         "rawType": "int64",
         "type": "integer"
        },
        {
         "name": "trip_id",
         "rawType": "object",
         "type": "string"
        },
        {
         "name": "arrival_time",
         "rawType": "object",
         "type": "string"
        },
        {
         "name": "departure_time",
         "rawType": "object",
         "type": "string"
        },
        {
         "name": "stop_id",
         "rawType": "object",
         "type": "string"
        },
        {
         "name": "stop_sequence",
         "rawType": "int64",
         "type": "integer"
        },
        {
         "name": "stop_headsign",
         "rawType": "object",
         "type": "string"
        },
        {
         "name": "pickup_type",
         "rawType": "int64",
         "type": "integer"
        },
        {
         "name": "drop_off_type",
         "rawType": "int64",
         "type": "integer"
        }
       ],
       "ref": "a4c9ef5b-c644-4713-9c00-2a2710ebe05e",
       "rows": [
        [
         "0",
         "3　Weekday/Weekend_0400_trip10502001",
         "04:00:00",
         "04:00:00",
         "P4035607_T",
         "1",
         "Anjo Voador (601)",
         "0",
         "1"
        ],
        [
         "1",
         "3　Weekday/Weekend_0400_trip10502001",
         "04:00:00",
         "04:00:00",
         "P0658PEP_B",
         "2",
         "Anjo Voador (601)",
         "0",
         "0"
        ],
        [
         "2",
         "3　Weekday/Weekend_0400_trip10502001",
         "04:01:00",
         "04:01:00",
         "P0657PEP_B",
         "3",
         "Anjo Voador (601)",
         "0",
         "0"
        ],
        [
         "3",
         "3　Weekday/Weekend_0400_trip10502001",
         "04:01:00",
         "04:01:00",
         "P0426PEP_B",
         "4",
         "Anjo Voador (601)",
         "0",
         "0"
        ],
        [
         "4",
         "3　Weekday/Weekend_0400_trip10502001",
         "04:02:00",
         "04:02:00",
         "P0656PEP_B",
         "5",
         "Anjo Voador (601)",
         "0",
         "0"
        ]
       ],
       "shape": {
        "columns": 8,
        "rows": 5
       }
      },
      "text/html": [
       "<div>\n",
       "<style scoped>\n",
       "    .dataframe tbody tr th:only-of-type {\n",
       "        vertical-align: middle;\n",
       "    }\n",
       "\n",
       "    .dataframe tbody tr th {\n",
       "        vertical-align: top;\n",
       "    }\n",
       "\n",
       "    .dataframe thead th {\n",
       "        text-align: right;\n",
       "    }\n",
       "</style>\n",
       "<table border=\"1\" class=\"dataframe\">\n",
       "  <thead>\n",
       "    <tr style=\"text-align: right;\">\n",
       "      <th></th>\n",
       "      <th>trip_id</th>\n",
       "      <th>arrival_time</th>\n",
       "      <th>departure_time</th>\n",
       "      <th>stop_id</th>\n",
       "      <th>stop_sequence</th>\n",
       "      <th>stop_headsign</th>\n",
       "      <th>pickup_type</th>\n",
       "      <th>drop_off_type</th>\n",
       "    </tr>\n",
       "  </thead>\n",
       "  <tbody>\n",
       "    <tr>\n",
       "      <th>0</th>\n",
       "      <td>3　Weekday/Weekend_0400_trip10502001</td>\n",
       "      <td>04:00:00</td>\n",
       "      <td>04:00:00</td>\n",
       "      <td>P4035607_T</td>\n",
       "      <td>1</td>\n",
       "      <td>Anjo Voador (601)</td>\n",
       "      <td>0</td>\n",
       "      <td>1</td>\n",
       "    </tr>\n",
       "    <tr>\n",
       "      <th>1</th>\n",
       "      <td>3　Weekday/Weekend_0400_trip10502001</td>\n",
       "      <td>04:00:00</td>\n",
       "      <td>04:00:00</td>\n",
       "      <td>P0658PEP_B</td>\n",
       "      <td>2</td>\n",
       "      <td>Anjo Voador (601)</td>\n",
       "      <td>0</td>\n",
       "      <td>0</td>\n",
       "    </tr>\n",
       "    <tr>\n",
       "      <th>2</th>\n",
       "      <td>3　Weekday/Weekend_0400_trip10502001</td>\n",
       "      <td>04:01:00</td>\n",
       "      <td>04:01:00</td>\n",
       "      <td>P0657PEP_B</td>\n",
       "      <td>3</td>\n",
       "      <td>Anjo Voador (601)</td>\n",
       "      <td>0</td>\n",
       "      <td>0</td>\n",
       "    </tr>\n",
       "    <tr>\n",
       "      <th>3</th>\n",
       "      <td>3　Weekday/Weekend_0400_trip10502001</td>\n",
       "      <td>04:01:00</td>\n",
       "      <td>04:01:00</td>\n",
       "      <td>P0426PEP_B</td>\n",
       "      <td>4</td>\n",
       "      <td>Anjo Voador (601)</td>\n",
       "      <td>0</td>\n",
       "      <td>0</td>\n",
       "    </tr>\n",
       "    <tr>\n",
       "      <th>4</th>\n",
       "      <td>3　Weekday/Weekend_0400_trip10502001</td>\n",
       "      <td>04:02:00</td>\n",
       "      <td>04:02:00</td>\n",
       "      <td>P0656PEP_B</td>\n",
       "      <td>5</td>\n",
       "      <td>Anjo Voador (601)</td>\n",
       "      <td>0</td>\n",
       "      <td>0</td>\n",
       "    </tr>\n",
       "  </tbody>\n",
       "</table>\n",
       "</div>"
      ],
      "text/plain": [
       "                               trip_id arrival_time departure_time  \\\n",
       "0  3　Weekday/Weekend_0400_trip10502001     04:00:00       04:00:00   \n",
       "1  3　Weekday/Weekend_0400_trip10502001     04:00:00       04:00:00   \n",
       "2  3　Weekday/Weekend_0400_trip10502001     04:01:00       04:01:00   \n",
       "3  3　Weekday/Weekend_0400_trip10502001     04:01:00       04:01:00   \n",
       "4  3　Weekday/Weekend_0400_trip10502001     04:02:00       04:02:00   \n",
       "\n",
       "      stop_id  stop_sequence      stop_headsign  pickup_type  drop_off_type  \n",
       "0  P4035607_T              1  Anjo Voador (601)            0              1  \n",
       "1  P0658PEP_B              2  Anjo Voador (601)            0              0  \n",
       "2  P0657PEP_B              3  Anjo Voador (601)            0              0  \n",
       "3  P0426PEP_B              4  Anjo Voador (601)            0              0  \n",
       "4  P0656PEP_B              5  Anjo Voador (601)            0              0  "
      ]
     },
     "metadata": {},
     "output_type": "display_data"
    },
    {
     "name": "stdout",
     "output_type": "stream",
     "text": [
      "Loaded calendar.txt\n"
     ]
    },
    {
     "data": {
      "application/vnd.microsoft.datawrangler.viewer.v0+json": {
       "columns": [
        {
         "name": "index",
         "rawType": "int64",
         "type": "integer"
        },
        {
         "name": "service_id",
         "rawType": "object",
         "type": "string"
        },
        {
         "name": "monday",
         "rawType": "int64",
         "type": "integer"
        },
        {
         "name": "tuesday",
         "rawType": "int64",
         "type": "integer"
        },
        {
         "name": "wednesday",
         "rawType": "int64",
         "type": "integer"
        },
        {
         "name": "thursday",
         "rawType": "int64",
         "type": "integer"
        },
        {
         "name": "friday",
         "rawType": "int64",
         "type": "integer"
        },
        {
         "name": "saturday",
         "rawType": "int64",
         "type": "integer"
        },
        {
         "name": "sunday",
         "rawType": "int64",
         "type": "integer"
        },
        {
         "name": "start_date",
         "rawType": "int64",
         "type": "integer"
        },
        {
         "name": "end_date",
         "rawType": "int64",
         "type": "integer"
        }
       ],
       "ref": "3cbc079e-2aac-4b0a-9aa9-db7ab84a1bed",
       "rows": [
        [
         "0",
         "Weekday",
         "1",
         "1",
         "1",
         "1",
         "1",
         "0",
         "0",
         "20250710",
         "20260709"
        ],
        [
         "1",
         "Weekend",
         "0",
         "0",
         "0",
         "0",
         "0",
         "1",
         "1",
         "20250710",
         "20260709"
        ],
        [
         "2",
         "Weekday/Weekend",
         "1",
         "1",
         "1",
         "1",
         "1",
         "1",
         "1",
         "20250710",
         "20260709"
        ]
       ],
       "shape": {
        "columns": 10,
        "rows": 3
       }
      },
      "text/html": [
       "<div>\n",
       "<style scoped>\n",
       "    .dataframe tbody tr th:only-of-type {\n",
       "        vertical-align: middle;\n",
       "    }\n",
       "\n",
       "    .dataframe tbody tr th {\n",
       "        vertical-align: top;\n",
       "    }\n",
       "\n",
       "    .dataframe thead th {\n",
       "        text-align: right;\n",
       "    }\n",
       "</style>\n",
       "<table border=\"1\" class=\"dataframe\">\n",
       "  <thead>\n",
       "    <tr style=\"text-align: right;\">\n",
       "      <th></th>\n",
       "      <th>service_id</th>\n",
       "      <th>monday</th>\n",
       "      <th>tuesday</th>\n",
       "      <th>wednesday</th>\n",
       "      <th>thursday</th>\n",
       "      <th>friday</th>\n",
       "      <th>saturday</th>\n",
       "      <th>sunday</th>\n",
       "      <th>start_date</th>\n",
       "      <th>end_date</th>\n",
       "    </tr>\n",
       "  </thead>\n",
       "  <tbody>\n",
       "    <tr>\n",
       "      <th>0</th>\n",
       "      <td>Weekday</td>\n",
       "      <td>1</td>\n",
       "      <td>1</td>\n",
       "      <td>1</td>\n",
       "      <td>1</td>\n",
       "      <td>1</td>\n",
       "      <td>0</td>\n",
       "      <td>0</td>\n",
       "      <td>20250710</td>\n",
       "      <td>20260709</td>\n",
       "    </tr>\n",
       "    <tr>\n",
       "      <th>1</th>\n",
       "      <td>Weekend</td>\n",
       "      <td>0</td>\n",
       "      <td>0</td>\n",
       "      <td>0</td>\n",
       "      <td>0</td>\n",
       "      <td>0</td>\n",
       "      <td>1</td>\n",
       "      <td>1</td>\n",
       "      <td>20250710</td>\n",
       "      <td>20260709</td>\n",
       "    </tr>\n",
       "    <tr>\n",
       "      <th>2</th>\n",
       "      <td>Weekday/Weekend</td>\n",
       "      <td>1</td>\n",
       "      <td>1</td>\n",
       "      <td>1</td>\n",
       "      <td>1</td>\n",
       "      <td>1</td>\n",
       "      <td>1</td>\n",
       "      <td>1</td>\n",
       "      <td>20250710</td>\n",
       "      <td>20260709</td>\n",
       "    </tr>\n",
       "  </tbody>\n",
       "</table>\n",
       "</div>"
      ],
      "text/plain": [
       "        service_id  monday  tuesday  wednesday  thursday  friday  saturday  \\\n",
       "0          Weekday       1        1          1         1       1         0   \n",
       "1          Weekend       0        0          0         0       0         1   \n",
       "2  Weekday/Weekend       1        1          1         1       1         1   \n",
       "\n",
       "   sunday  start_date  end_date  \n",
       "0       0    20250710  20260709  \n",
       "1       1    20250710  20260709  \n",
       "2       1    20250710  20260709  "
      ]
     },
     "metadata": {},
     "output_type": "display_data"
    },
    {
     "name": "stdout",
     "output_type": "stream",
     "text": [
      "Loaded shapes.txt\n"
     ]
    },
    {
     "data": {
      "application/vnd.microsoft.datawrangler.viewer.v0+json": {
       "columns": [
        {
         "name": "index",
         "rawType": "int64",
         "type": "integer"
        },
        {
         "name": "shape_id",
         "rawType": "int64",
         "type": "integer"
        },
        {
         "name": "shape_pt_lat",
         "rawType": "float64",
         "type": "float"
        },
        {
         "name": "shape_pt_lon",
         "rawType": "float64",
         "type": "float"
        },
        {
         "name": "shape_pt_sequence",
         "rawType": "int64",
         "type": "integer"
        },
        {
         "name": "shape_dist_traveled",
         "rawType": "float64",
         "type": "float"
        }
       ],
       "ref": "02a5c31c-2584-4eec-95f6-0c0627d5ae7a",
       "rows": [
        [
         "0",
         "10001",
         "-25.9755",
         "32.571",
         "1",
         "0.0"
        ],
        [
         "1",
         "10001",
         "-25.9754",
         "32.5706",
         "2",
         "0.0429"
        ],
        [
         "2",
         "10001",
         "-25.9753",
         "32.5705",
         "3",
         "0.0502"
        ],
        [
         "3",
         "10001",
         "-25.9753",
         "32.5704",
         "4",
         "0.0589"
        ],
        [
         "4",
         "10001",
         "-25.9752",
         "32.5701",
         "5",
         "0.0995"
        ]
       ],
       "shape": {
        "columns": 5,
        "rows": 5
       }
      },
      "text/html": [
       "<div>\n",
       "<style scoped>\n",
       "    .dataframe tbody tr th:only-of-type {\n",
       "        vertical-align: middle;\n",
       "    }\n",
       "\n",
       "    .dataframe tbody tr th {\n",
       "        vertical-align: top;\n",
       "    }\n",
       "\n",
       "    .dataframe thead th {\n",
       "        text-align: right;\n",
       "    }\n",
       "</style>\n",
       "<table border=\"1\" class=\"dataframe\">\n",
       "  <thead>\n",
       "    <tr style=\"text-align: right;\">\n",
       "      <th></th>\n",
       "      <th>shape_id</th>\n",
       "      <th>shape_pt_lat</th>\n",
       "      <th>shape_pt_lon</th>\n",
       "      <th>shape_pt_sequence</th>\n",
       "      <th>shape_dist_traveled</th>\n",
       "    </tr>\n",
       "  </thead>\n",
       "  <tbody>\n",
       "    <tr>\n",
       "      <th>0</th>\n",
       "      <td>10001</td>\n",
       "      <td>-25.9755</td>\n",
       "      <td>32.5710</td>\n",
       "      <td>1</td>\n",
       "      <td>0.0000</td>\n",
       "    </tr>\n",
       "    <tr>\n",
       "      <th>1</th>\n",
       "      <td>10001</td>\n",
       "      <td>-25.9754</td>\n",
       "      <td>32.5706</td>\n",
       "      <td>2</td>\n",
       "      <td>0.0429</td>\n",
       "    </tr>\n",
       "    <tr>\n",
       "      <th>2</th>\n",
       "      <td>10001</td>\n",
       "      <td>-25.9753</td>\n",
       "      <td>32.5705</td>\n",
       "      <td>3</td>\n",
       "      <td>0.0502</td>\n",
       "    </tr>\n",
       "    <tr>\n",
       "      <th>3</th>\n",
       "      <td>10001</td>\n",
       "      <td>-25.9753</td>\n",
       "      <td>32.5704</td>\n",
       "      <td>4</td>\n",
       "      <td>0.0589</td>\n",
       "    </tr>\n",
       "    <tr>\n",
       "      <th>4</th>\n",
       "      <td>10001</td>\n",
       "      <td>-25.9752</td>\n",
       "      <td>32.5701</td>\n",
       "      <td>5</td>\n",
       "      <td>0.0995</td>\n",
       "    </tr>\n",
       "  </tbody>\n",
       "</table>\n",
       "</div>"
      ],
      "text/plain": [
       "   shape_id  shape_pt_lat  shape_pt_lon  shape_pt_sequence  \\\n",
       "0     10001      -25.9755       32.5710                  1   \n",
       "1     10001      -25.9754       32.5706                  2   \n",
       "2     10001      -25.9753       32.5705                  3   \n",
       "3     10001      -25.9753       32.5704                  4   \n",
       "4     10001      -25.9752       32.5701                  5   \n",
       "\n",
       "   shape_dist_traveled  \n",
       "0               0.0000  \n",
       "1               0.0429  \n",
       "2               0.0502  \n",
       "3               0.0589  \n",
       "4               0.0995  "
      ]
     },
     "metadata": {},
     "output_type": "display_data"
    }
   ],
   "source": [
    "import pandas as pd\n",
    "import os\n",
    "\n",
    "# Directory where GTFS txt files are extracted\n",
    "gtfs_dir = './data/gtfs'\n",
    "\n",
    "# Read GTFS files into individual DataFrames\n",
    "if os.path.exists(os.path.join(gtfs_dir, 'agency.txt')):\n",
    "    agency_df = pd.read_csv(os.path.join(gtfs_dir, 'agency.txt'))\n",
    "    print(\"Loaded agency.txt\")\n",
    "    display(agency_df.head())\n",
    "\n",
    "if os.path.exists(os.path.join(gtfs_dir, 'stops.txt')):\n",
    "    stops_df = pd.read_csv(os.path.join(gtfs_dir, 'stops.txt'))\n",
    "    print(\"Loaded stops.txt\")\n",
    "    display(stops_df.head())\n",
    "\n",
    "if os.path.exists(os.path.join(gtfs_dir, 'routes.txt')):\n",
    "    routes_df = pd.read_csv(os.path.join(gtfs_dir, 'routes.txt'))\n",
    "    print(\"Loaded routes.txt\")\n",
    "    display(routes_df.head())\n",
    "\n",
    "if os.path.exists(os.path.join(gtfs_dir, 'trips.txt')):\n",
    "    trips_df = pd.read_csv(os.path.join(gtfs_dir, 'trips.txt'))\n",
    "    print(\"Loaded trips.txt\")\n",
    "    display(trips_df.head())\n",
    "\n",
    "if os.path.exists(os.path.join(gtfs_dir, 'stop_times.txt')):\n",
    "    stop_times_df = pd.read_csv(os.path.join(gtfs_dir, 'stop_times.txt'))\n",
    "    print(\"Loaded stop_times.txt\")\n",
    "    display(stop_times_df.head())\n",
    "\n",
    "if os.path.exists(os.path.join(gtfs_dir, 'calendar.txt')):\n",
    "    calendar_df = pd.read_csv(os.path.join(gtfs_dir, 'calendar.txt'))\n",
    "    print(\"Loaded calendar.txt\")\n",
    "    display(calendar_df.head())\n",
    "\n",
    "if os.path.exists(os.path.join(gtfs_dir, 'shapes.txt')):\n",
    "    shapes_df = pd.read_csv(os.path.join(gtfs_dir, 'shapes.txt'))\n",
    "    print(\"Loaded shapes.txt\")\n",
    "    display(shapes_df.head())"
   ]
  },
  {
   "cell_type": "code",
   "execution_count": null,
   "id": "59934b6d",
   "metadata": {},
   "outputs": [],
   "source": []
  }
 ],
 "metadata": {
  "kernelspec": {
   "display_name": "Python 3",
   "language": "python",
   "name": "python3"
  },
  "language_info": {
   "codemirror_mode": {
    "name": "ipython",
    "version": 3
   },
   "file_extension": ".py",
   "mimetype": "text/x-python",
   "name": "python",
   "nbconvert_exporter": "python",
   "pygments_lexer": "ipython3",
   "version": "3.13.7"
  }
 },
 "nbformat": 4,
 "nbformat_minor": 5
}
