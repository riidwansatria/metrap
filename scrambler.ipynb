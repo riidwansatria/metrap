{
 "cells": [
  {
   "cell_type": "code",
   "execution_count": 10,
   "id": "f35ebdca",
   "metadata": {},
   "outputs": [],
   "source": [
    "import pandas as pd\n",
    "import numpy as np\n",
    "\n",
    "df = pd.read_csv(\"data/zg11_20250915.csv\")\n",
    "\n",
    "# Adjust latitude/longitude by ±50 meters (~0.0005 degrees)\n",
    "df[\"緯度\"] = df[\"緯度\"] + np.random.normal(0, 0.0005, len(df))\n",
    "df[\"経度\"] = df[\"経度\"] + np.random.normal(0, 0.0005, len(df))"
   ]
  },
  {
   "cell_type": "code",
   "execution_count": 11,
   "id": "e6242b6d",
   "metadata": {},
   "outputs": [],
   "source": [
    "df[\"時刻\"] = pd.to_datetime(df[\"時刻\"]) + pd.to_timedelta(np.random.randint(-50, 50), unit=\"s\")\n"
   ]
  },
  {
   "cell_type": "code",
   "execution_count": 12,
   "id": "7183525e",
   "metadata": {},
   "outputs": [],
   "source": [
    "# Save the scrambled data\n",
    "df.to_csv(\"data/sample_data.csv\", index=False)"
   ]
  }
 ],
 "metadata": {
  "kernelspec": {
   "display_name": "Python 3",
   "language": "python",
   "name": "python3"
  },
  "language_info": {
   "codemirror_mode": {
    "name": "ipython",
    "version": 3
   },
   "file_extension": ".py",
   "mimetype": "text/x-python",
   "name": "python",
   "nbconvert_exporter": "python",
   "pygments_lexer": "ipython3",
   "version": "3.13.7"
  }
 },
 "nbformat": 4,
 "nbformat_minor": 5
}
